{
 "cells": [
  {
   "cell_type": "code",
   "execution_count": null,
   "metadata": {},
   "outputs": [],
   "source": [
    "\"\"\"\n",
    "Format: term_i, df_i:\n",
    "    <doc1, tf_1: <pos1, pos2, … >; \n",
    "    doc2, tf_2: <pos1, pos2, …>; …>\n",
    "\n",
    "Format: to, 993427: \n",
    "    <1, 6: <7, 18, 33, 72, 86, 231>;   \n",
    "    2, 5: <1, 17, 74, 222, 255>; … >\n",
    "\"\"\""
   ]
  },
  {
   "cell_type": "code",
   "execution_count": 30,
   "metadata": {},
   "outputs": [],
   "source": [
    "import re\n",
    "import math"
   ]
  },
  {
   "cell_type": "code",
   "execution_count": 12,
   "metadata": {},
   "outputs": [],
   "source": [
    "inverted_index = eval(open('all_docs_freq_all_tokens_dict.txt','r').read())"
   ]
  },
  {
   "cell_type": "code",
   "execution_count": 14,
   "metadata": {},
   "outputs": [
    {
     "data": {
      "text/plain": [
       "[{'13185,1': [0]}, {'13191,8': [841, 848, 850, 948, 955, 969, 980, 982]}]"
      ]
     },
     "execution_count": 14,
     "metadata": {},
     "output_type": "execute_result"
    }
   ],
   "source": [
    "inverted_index['usernam, 2']"
   ]
  },
  {
   "cell_type": "code",
   "execution_count": 55,
   "metadata": {},
   "outputs": [
    {
     "name": "stdout",
     "output_type": "stream",
     "text": [
      "1.0 3.818654696160069\n"
     ]
    },
    {
     "data": {
      "text/plain": [
       "3.818654696160069"
      ]
     },
     "execution_count": 55,
     "metadata": {},
     "output_type": "execute_result"
    }
   ],
   "source": [
    "# ref: https://mathpretty.com/10661.html\n",
    "term = \"usernam\"\n",
    "\n",
    "NUM_OF_ALL_DOCS = 13173 # number of all documents (processed)\n",
    "\n",
    "def calculate_weight(raw_count_in_doc, term_doc_in_all_document):\n",
    "    \"\"\"\n",
    "    raw_count_in_doc : appear times of term in the doc (raw count)\n",
    "    term_doc_in_all_document : number of docs which contains the term (processed)\n",
    "    \"\"\"\n",
    "    idf = NUM_OF_ALL_DOCS / term_doc_in_all_document\n",
    "    w_i_j = (1 + math.log10(raw_count_in_doc)) * math.log10(idf)\n",
    "\n",
    "    # print((1 + math.log10(raw_count_in_doc)), math.log10(idf))\n",
    "\n",
    "    return w_i_j\n",
    "\n",
    "calculate_weight(1, 2)"
   ]
  },
  {
   "cell_type": "code",
   "execution_count": 51,
   "metadata": {},
   "outputs": [
    {
     "name": "stdout",
     "output_type": "stream",
     "text": [
      "usernam 13191 [8.792777378669882, 27.076843926618768]\n",
      "member 13193 [30.52191019395961, 8.387312270561717, 8.387312270561717]\n"
     ]
    }
   ],
   "source": [
    "term_doc_in_all_document = 0\n",
    "\n",
    "keys = ['usernam, 2', 'member, 3']\n",
    "\n",
    "d_j = []\n",
    "q = []\n",
    "\n",
    "# for term_df_key in list(inverted_index.keys()):\n",
    "for term_df_key in list(keys):\n",
    "    d_j = []\n",
    "    term = re.findall('\\w+', term_df_key)[0] # 'usernam, 2' -> 'usernam'\n",
    "    term_doc_in_all_document = int(re.findall(', ([0-9]+)', term_df_key)[0]) # 'usernam, 2' -> 2\n",
    "\n",
    "    for i in range(len(inverted_index[term_df_key])):\n",
    "        doc_raw_count_and_posting = list(inverted_index[term_df_key][i].keys())[0] # [{'13185,1': [0]}, {'13191,8': ...}...]\n",
    "        doc_id = int(re.findall('([0-9]+),', doc_raw_count_and_posting)[0]) # '13185,1' -> 13185\n",
    "        raw_count_in_doc = int(re.findall(',([0-9]+)', doc_raw_count_and_posting)[0]) # '13185,1' -> 1\n",
    "\n",
    "        weight_i_j = calculate_weight(raw_count_in_doc, term_doc_in_all_document)\n",
    "        d_j.append(weight_i_j)\n",
    "        # print(doc_id, term, weight_i_j, raw_count_in_doc)\n",
    "    print(term, doc_id, d_j)\n",
    "\n",
    "# d_j"
   ]
  },
  {
   "cell_type": "code",
   "execution_count": 56,
   "metadata": {},
   "outputs": [
    {
     "name": "stdout",
     "output_type": "stream",
     "text": [
      "0.9972413740548081\n"
     ]
    }
   ],
   "source": [
    "# Vectors\n",
    "vec_a = [1, 2, 3, 4, 5]\n",
    "vec_b = [1, 3, 5, 7, 9]\n",
    "\n",
    "dot = sum(i * j for i, j in zip(vec_a, vec_b))\n",
    "a_norm = sum(i**2 for i in vec_a) ** 0.5\n",
    "b_norm = sum(i**2 for i in vec_b) ** 0.5\n",
    "\n",
    "cos_sim = dot / (a_norm * b_norm)\n",
    "print(cos_sim)"
   ]
  },
  {
   "cell_type": "code",
   "execution_count": null,
   "metadata": {},
   "outputs": [],
   "source": [
    "# # cosine similarity\n",
    "# term = \"usernam\"\n",
    "# query = \"username\"\n",
    "\n",
    "# query -> stemmize -> search key (use cosine similarity to get most similiar key) -> get weight\n",
    "\n",
    "# d_j = query 在 doc 的 tf-idf weight 向量\n",
    "# q = query 各字在 query 的 tf-idf weight 向量\n",
    "Hong Kong Business\n",
    "1 1 1\n",
    "Hong Kong Kong Business"
   ]
  }
 ],
 "metadata": {
  "kernelspec": {
   "display_name": "Python 3.8.0 64-bit",
   "language": "python",
   "name": "python3"
  },
  "language_info": {
   "codemirror_mode": {
    "name": "ipython",
    "version": 3
   },
   "file_extension": ".py",
   "mimetype": "text/x-python",
   "name": "python",
   "nbconvert_exporter": "python",
   "pygments_lexer": "ipython3",
   "version": "3.8.0"
  },
  "orig_nbformat": 4,
  "vscode": {
   "interpreter": {
    "hash": "336f022bbc4854ae7b14407c3c3b003a8b85f519bde085b65aeeaf00951ecc33"
   }
  }
 },
 "nbformat": 4,
 "nbformat_minor": 2
}
