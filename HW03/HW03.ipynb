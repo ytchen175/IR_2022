{
 "cells": [
  {
   "cell_type": "code",
   "execution_count": 1,
   "metadata": {},
   "outputs": [],
   "source": [
    "import re\n",
    "import os\n",
    "import csv\n",
    "\n",
    "import pandas as pd\n",
    "from os import listdir\n",
    "from os.path import isfile, join\n",
    "from bs4 import BeautifulSoup\n",
    "from tqdm.auto import tqdm"
   ]
  },
  {
   "attachments": {},
   "cell_type": "markdown",
   "metadata": {},
   "source": [
    "#### The sgml tags needs to be noticed\n",
    "<\n",
    "REUTERS TOPICS=\"YES\" \n",
    "LEWISSPLIT=\"TRAIN\" \n",
    "CGISPLIT=\"TRAINING-SET\" \n",
    "OLDID=\"5544\" \n",
    "NEWID=\"1\">\n",
    "\n",
    "`LEWISSPLIT=\"TRAIN\"` means this sgml file is `training set` in ModApte split\n",
    "\n",
    "<\n",
    "TOPICS>\n",
    "<\n",
    "D>\n",
    "cocoa\n",
    "<\n",
    "/D>\n",
    "<\n",
    "/TOPICS>\n",
    "\n",
    "The `text inside TOPICS tags` means `Topical category`.\n",
    "\n",
    "<\n",
    "BODY>\n",
    "text text text<\n",
    "/BODY>\n",
    "\n",
    "The `text inside BODY tags` means `Text content`."
   ]
  },
  {
   "attachments": {},
   "cell_type": "markdown",
   "metadata": {},
   "source": [
    "### Split warc file to docs"
   ]
  },
  {
   "cell_type": "code",
   "execution_count": 2,
   "metadata": {},
   "outputs": [],
   "source": [
    "# ref : https://stackoverflow.com/questions/60269904/split-text-file-after-specific-line-in-python\n",
    "def split_docs_iter(stream, start, end):\n",
    "    def inner(stream):\n",
    "        # Yields each line until an end marker is found (or EOF)\n",
    "        for line in stream:\n",
    "            if line and not end.match(line):\n",
    "                yield line\n",
    "                continue\n",
    "            break\n",
    "\n",
    "    # Find a start marker, then break off into a nested iterator\n",
    "    for line in stream:\n",
    "        if line:\n",
    "            if start.match(line):\n",
    "                yield inner(stream)\n",
    "            continue\n",
    "        break"
   ]
  },
  {
   "cell_type": "code",
   "execution_count": 5,
   "metadata": {},
   "outputs": [
    {
     "name": "stderr",
     "output_type": "stream",
     "text": [
      "0it [00:00, ?it/s]\n"
     ]
    },
    {
     "ename": "FileNotFoundError",
     "evalue": "[WinError 2] 系統找不到指定的檔案。: './reuters_sgmls/tmp_sgml'",
     "output_type": "error",
     "traceback": [
      "\u001b[1;31m---------------------------------------------------------------------------\u001b[0m",
      "\u001b[1;31mFileNotFoundError\u001b[0m                         Traceback (most recent call last)",
      "\u001b[1;32m<ipython-input-5-a5f4df36a88a>\u001b[0m in \u001b[0;36m<module>\u001b[1;34m\u001b[0m\n\u001b[0;32m     51\u001b[0m \u001b[0mp\u001b[0m\u001b[1;33m.\u001b[0m\u001b[0mclose\u001b[0m\u001b[1;33m(\u001b[0m\u001b[1;33m)\u001b[0m\u001b[1;33m\u001b[0m\u001b[1;33m\u001b[0m\u001b[0m\n\u001b[0;32m     52\u001b[0m \u001b[1;33m\u001b[0m\u001b[0m\n\u001b[1;32m---> 53\u001b[1;33m \u001b[0mos\u001b[0m\u001b[1;33m.\u001b[0m\u001b[0mremove\u001b[0m\u001b[1;33m(\u001b[0m\u001b[1;34mf'./{REUTERS_SGMLS_PATH}/tmp_sgml'\u001b[0m\u001b[1;33m)\u001b[0m\u001b[1;33m\u001b[0m\u001b[1;33m\u001b[0m\u001b[0m\n\u001b[0m",
      "\u001b[1;31mFileNotFoundError\u001b[0m: [WinError 2] 系統找不到指定的檔案。: './reuters_sgmls/tmp_sgml'"
     ]
    }
   ],
   "source": [
    "REUTERS_PATH = 'reuters21578'\n",
    "REUTERS_SGMLS_PATH = 'reuters_sgmls'\n",
    "\n",
    "SECTION_START = re.compile(r'<REUTERS')\n",
    "SECTION_END = re.compile(r'</REUTERS>')\n",
    "\n",
    "CUT_START_PATTERN = \"---\"\n",
    "CUT_END_PATTERN = \"----\"\n",
    "\n",
    "CUT_START = re.compile(CUT_START_PATTERN)\n",
    "CUT_END = re.compile(CUT_END_PATTERN)\n",
    "\n",
    "files = [f for f in listdir(REUTERS_PATH) if isfile(join(REUTERS_PATH, f)) and \".sgm\" in f]\n",
    "\n",
    "# create dir\n",
    "os.makedirs(REUTERS_SGMLS_PATH, exist_ok=True)\n",
    "\n",
    "tmp_sgml = \"\"\n",
    "\n",
    "# initialize the progress bar\n",
    "p = tqdm(total=len(files), nrows=4, position=0, leave=True)\n",
    "\n",
    "for file in files:\n",
    "    # add patterns for later sgmls splitting\n",
    "    with open(f'./{REUTERS_PATH}/{file}', 'r', encoding='ISO-8859-1') as fh_in:\n",
    "        lines = fh_in.readlines()\n",
    "        for line in lines:\n",
    "            if SECTION_START.match(line):\n",
    "                tmp_sgml += f\"{CUT_START_PATTERN}\\n\"\n",
    "                tmp_sgml += line\n",
    "            elif SECTION_END.match(line):\n",
    "                tmp_sgml += line\n",
    "                tmp_sgml += f\"{CUT_END_PATTERN}\\n\"\n",
    "            else:\n",
    "                tmp_sgml += line\n",
    "\n",
    "    # save temporary\n",
    "    with open(f'./{REUTERS_SGMLS_PATH}/tmp_sgml', 'w', encoding='UTF-8') as fh_out:\n",
    "        fh_out.write(tmp_sgml)\n",
    "\n",
    "    # split sgmls by our custom patterns\n",
    "    with open(f'./{REUTERS_SGMLS_PATH}/tmp_sgml', 'r', encoding=\"ISO-8859-1\") as fh_in:\n",
    "        for (i, nested_iter) in enumerate(split_docs_iter(fh_in, CUT_START, CUT_END)):\n",
    "            with open('./reuters_sgmls/docID_{:05d}'.format(i), 'w', encoding='UTF-8') as fh_out:\n",
    "                for line in nested_iter:\n",
    "                    fh_out.write(line)\n",
    "\n",
    "    p.set_description('SGMLs splitted needed: ', refresh=True)\n",
    "    p.update(1) # update progress bar\n",
    "\n",
    "p.close()\n",
    "\n",
    "os.remove(f'./{REUTERS_SGMLS_PATH}/tmp_sgml')\n"
   ]
  },
  {
   "attachments": {},
   "cell_type": "markdown",
   "metadata": {},
   "source": [
    "#### Extract information from splitted sgmls"
   ]
  },
  {
   "cell_type": "code",
   "execution_count": 38,
   "metadata": {},
   "outputs": [
    {
     "data": {
      "application/vnd.jupyter.widget-view+json": {
       "model_id": "22a191256a454879a9c37f9c6be53810",
       "version_major": 2,
       "version_minor": 0
      },
      "text/plain": [
       "  0%|          | 0/21578 [00:00<?, ?it/s]"
      ]
     },
     "metadata": {},
     "output_type": "display_data"
    },
    {
     "name": "stdout",
     "output_type": "stream",
     "text": [
      "docID_17979 UnicodeDecodeError, pass\n"
     ]
    }
   ],
   "source": [
    "sgmls_files = [f for f in listdir(REUTERS_SGMLS_PATH) if isfile(join(REUTERS_SGMLS_PATH, f))]\n",
    "\n",
    "# initialize the progress bar\n",
    "pb = tqdm(total=len(sgmls_files), nrows=4, position=0, leave=True)\n",
    "\n",
    "with open('reuter_docs.csv', \"w\", newline='') as csv_file:\n",
    "    writer = csv.writer(csv_file)\n",
    "\n",
    "    # header\n",
    "    writer.writerow(['topics', 'body', 'train_test_label'])\n",
    "\n",
    "    for sgml in sgmls_files:\n",
    "        try:\n",
    "            with open(f\"{REUTERS_SGMLS_PATH}/{sgml}\", 'r') as f:\n",
    "                data = f.read()\n",
    "                soup = BeautifulSoup(data, \"html.parser\")\n",
    "\n",
    "                if not soup.find(\"reuters\"):\n",
    "                    train_test_label = \"None\"\n",
    "                else:\n",
    "                    train_test_label = soup.find(\"reuters\")['lewissplit']\n",
    "\n",
    "                if not soup.find(\"topics\"):\n",
    "                    topics = \"None\"\n",
    "                else:\n",
    "                    topics = soup.find(\"topics\").get_text()\n",
    "\n",
    "                if not soup.find(\"body\"):\n",
    "                    body = \"None\"\n",
    "                else:\n",
    "                    body = soup.find(\"body\").get_text()\n",
    "\n",
    "                writer.writerow([topics, body, train_test_label])\n",
    "\n",
    "        except UnicodeDecodeError:\n",
    "            print(f\"{sgml} UnicodeDecodeError, pass\")\n",
    "\n",
    "        pb.set_description('Extracting SGMLs content: ', refresh=True)\n",
    "        pb.update(1) # update progress bar\n",
    "\n",
    "pb.close()"
   ]
  },
  {
   "cell_type": "code",
   "execution_count": 4,
   "metadata": {},
   "outputs": [
    {
     "data": {
      "text/html": [
       "<div>\n",
       "<style scoped>\n",
       "    .dataframe tbody tr th:only-of-type {\n",
       "        vertical-align: middle;\n",
       "    }\n",
       "\n",
       "    .dataframe tbody tr th {\n",
       "        vertical-align: top;\n",
       "    }\n",
       "\n",
       "    .dataframe thead th {\n",
       "        text-align: right;\n",
       "    }\n",
       "</style>\n",
       "<table border=\"1\" class=\"dataframe\">\n",
       "  <thead>\n",
       "    <tr style=\"text-align: right;\">\n",
       "      <th></th>\n",
       "      <th>topics</th>\n",
       "      <th>body</th>\n",
       "      <th>train_test_label</th>\n",
       "    </tr>\n",
       "  </thead>\n",
       "  <tbody>\n",
       "    <tr>\n",
       "      <th>0</th>\n",
       "      <td>cocoa</td>\n",
       "      <td>Showers continued throughout the week in\\r\\nth...</td>\n",
       "      <td>TRAIN</td>\n",
       "    </tr>\n",
       "    <tr>\n",
       "      <th>1</th>\n",
       "      <td>NaN</td>\n",
       "      <td>Standard Oil Co and BP North America\\r\\nInc sa...</td>\n",
       "      <td>TRAIN</td>\n",
       "    </tr>\n",
       "    <tr>\n",
       "      <th>2</th>\n",
       "      <td>NaN</td>\n",
       "      <td>Texas Commerce Bancshares Inc's Texas\\r\\nComme...</td>\n",
       "      <td>TRAIN</td>\n",
       "    </tr>\n",
       "    <tr>\n",
       "      <th>3</th>\n",
       "      <td>NaN</td>\n",
       "      <td>BankAmerica Corp is not under\\r\\npressure to a...</td>\n",
       "      <td>TRAIN</td>\n",
       "    </tr>\n",
       "    <tr>\n",
       "      <th>4</th>\n",
       "      <td>grainwheatcornbarleyoatsorghum</td>\n",
       "      <td>The U.S. Agriculture Department\\r\\nreported th...</td>\n",
       "      <td>TRAIN</td>\n",
       "    </tr>\n",
       "    <tr>\n",
       "      <th>...</th>\n",
       "      <td>...</td>\n",
       "      <td>...</td>\n",
       "      <td>...</td>\n",
       "    </tr>\n",
       "    <tr>\n",
       "      <th>21572</th>\n",
       "      <td>ship</td>\n",
       "      <td>The Japan/India-Pakistan-Gulf/Japan\\r\\nshippin...</td>\n",
       "      <td>TEST</td>\n",
       "    </tr>\n",
       "    <tr>\n",
       "      <th>21573</th>\n",
       "      <td>ipi</td>\n",
       "      <td>The Soviet Union's industrial output is\\r\\ngro...</td>\n",
       "      <td>TEST</td>\n",
       "    </tr>\n",
       "    <tr>\n",
       "      <th>21574</th>\n",
       "      <td>gold</td>\n",
       "      <td>Six black miners have been killed\\r\\nand two i...</td>\n",
       "      <td>TEST</td>\n",
       "    </tr>\n",
       "    <tr>\n",
       "      <th>21575</th>\n",
       "      <td>NaN</td>\n",
       "      <td>The prospect of a dominant alliance of\\r\\nsoci...</td>\n",
       "      <td>TEST</td>\n",
       "    </tr>\n",
       "    <tr>\n",
       "      <th>21576</th>\n",
       "      <td>NaN</td>\n",
       "      <td>The American Stock Exchange said it has\\r\\nint...</td>\n",
       "      <td>TEST</td>\n",
       "    </tr>\n",
       "  </tbody>\n",
       "</table>\n",
       "<p>21577 rows × 3 columns</p>\n",
       "</div>"
      ],
      "text/plain": [
       "                               topics  \\\n",
       "0                               cocoa   \n",
       "1                                 NaN   \n",
       "2                                 NaN   \n",
       "3                                 NaN   \n",
       "4      grainwheatcornbarleyoatsorghum   \n",
       "...                               ...   \n",
       "21572                            ship   \n",
       "21573                             ipi   \n",
       "21574                            gold   \n",
       "21575                             NaN   \n",
       "21576                             NaN   \n",
       "\n",
       "                                                    body train_test_label  \n",
       "0      Showers continued throughout the week in\\r\\nth...            TRAIN  \n",
       "1      Standard Oil Co and BP North America\\r\\nInc sa...            TRAIN  \n",
       "2      Texas Commerce Bancshares Inc's Texas\\r\\nComme...            TRAIN  \n",
       "3      BankAmerica Corp is not under\\r\\npressure to a...            TRAIN  \n",
       "4      The U.S. Agriculture Department\\r\\nreported th...            TRAIN  \n",
       "...                                                  ...              ...  \n",
       "21572  The Japan/India-Pakistan-Gulf/Japan\\r\\nshippin...             TEST  \n",
       "21573  The Soviet Union's industrial output is\\r\\ngro...             TEST  \n",
       "21574  Six black miners have been killed\\r\\nand two i...             TEST  \n",
       "21575  The prospect of a dominant alliance of\\r\\nsoci...             TEST  \n",
       "21576  The American Stock Exchange said it has\\r\\nint...             TEST  \n",
       "\n",
       "[21577 rows x 3 columns]"
      ]
     },
     "execution_count": 4,
     "metadata": {},
     "output_type": "execute_result"
    }
   ],
   "source": [
    "df = pd.read_csv('reuter_docs.csv')\n",
    "df"
   ]
  },
  {
   "cell_type": "code",
   "execution_count": 5,
   "metadata": {},
   "outputs": [
    {
     "data": {
      "text/plain": [
       "topics\n",
       "acq                        2362\n",
       "acqalum                       2\n",
       "acqcopper                     3\n",
       "acqcrude                      9\n",
       "acqcrudenat-gas               8\n",
       "                           ... \n",
       "yen                           6\n",
       "zinc                         16\n",
       "zinclead                      2\n",
       "zincleadcopper                2\n",
       "zincleadstrategic-metal       1\n",
       "Length: 655, dtype: int64"
      ]
     },
     "execution_count": 5,
     "metadata": {},
     "output_type": "execute_result"
    }
   ],
   "source": [
    "df.groupby('topics').size()"
   ]
  },
  {
   "cell_type": "code",
   "execution_count": null,
   "metadata": {},
   "outputs": [],
   "source": [
    "df['topics'].unique()"
   ]
  },
  {
   "cell_type": "code",
   "execution_count": 7,
   "metadata": {},
   "outputs": [
    {
     "name": "stdout",
     "output_type": "stream",
     "text": [
      "<class 'pandas.core.frame.DataFrame'>\n"
     ]
    }
   ],
   "source": [
    "print(type(df))"
   ]
  },
  {
   "cell_type": "code",
   "execution_count": 8,
   "metadata": {},
   "outputs": [
    {
     "name": "stdout",
     "output_type": "stream",
     "text": [
      "<class 'pandas.core.frame.DataFrame'>\n",
      "RangeIndex: 21577 entries, 0 to 21576\n",
      "Data columns (total 3 columns):\n",
      " #   Column            Non-Null Count  Dtype \n",
      "---  ------            --------------  ----- \n",
      " 0   topics            11366 non-null  object\n",
      " 1   body              21577 non-null  object\n",
      " 2   train_test_label  21577 non-null  object\n",
      "dtypes: object(3)\n",
      "memory usage: 505.8+ KB\n",
      "None\n"
     ]
    }
   ],
   "source": [
    "print(df.info())"
   ]
  },
  {
   "cell_type": "code",
   "execution_count": 9,
   "metadata": {},
   "outputs": [],
   "source": [
    "import pandas as pd\n",
    "import numpy as np\n",
    "from sklearn.feature_extraction.text import CountVectorizer\n",
    "from sklearn.model_selection import train_test_split\n",
    "from sklearn.naive_bayes import MultinomialNB\n",
    "from sklearn.metrics import accuracy_score\n",
    "from sklearn.metrics import classification_report\n",
    "from sklearn.metrics import f1_score"
   ]
  },
  {
   "cell_type": "code",
   "execution_count": 10,
   "metadata": {},
   "outputs": [
    {
     "name": "stdout",
     "output_type": "stream",
     "text": [
      "       topics   body train_test_label\n",
      "count   11366  21577            21577\n",
      "unique    655  18781                3\n",
      "top      earn   None            TRAIN\n",
      "freq     3945   2535            14668\n"
     ]
    }
   ],
   "source": [
    "print(df.describe())"
   ]
  },
  {
   "cell_type": "code",
   "execution_count": 13,
   "metadata": {},
   "outputs": [],
   "source": [
    "count_vec = CountVectorizer()"
   ]
  },
  {
   "cell_type": "code",
   "execution_count": 19,
   "metadata": {},
   "outputs": [
    {
     "data": {
      "text/html": [
       "<div>\n",
       "<style scoped>\n",
       "    .dataframe tbody tr th:only-of-type {\n",
       "        vertical-align: middle;\n",
       "    }\n",
       "\n",
       "    .dataframe tbody tr th {\n",
       "        vertical-align: top;\n",
       "    }\n",
       "\n",
       "    .dataframe thead th {\n",
       "        text-align: right;\n",
       "    }\n",
       "</style>\n",
       "<table border=\"1\" class=\"dataframe\">\n",
       "  <thead>\n",
       "    <tr style=\"text-align: right;\">\n",
       "      <th></th>\n",
       "      <th>topics</th>\n",
       "      <th>body</th>\n",
       "      <th>train_test_label</th>\n",
       "    </tr>\n",
       "  </thead>\n",
       "  <tbody>\n",
       "    <tr>\n",
       "      <th>0</th>\n",
       "      <td>cocoa</td>\n",
       "      <td>Showers continued throughout the week in\\r\\nth...</td>\n",
       "      <td>TRAIN</td>\n",
       "    </tr>\n",
       "    <tr>\n",
       "      <th>4</th>\n",
       "      <td>grainwheatcornbarleyoatsorghum</td>\n",
       "      <td>The U.S. Agriculture Department\\r\\nreported th...</td>\n",
       "      <td>TRAIN</td>\n",
       "    </tr>\n",
       "    <tr>\n",
       "      <th>5</th>\n",
       "      <td>veg-oillinseedlin-oilsoy-oilsun-oilsoybeanoils...</td>\n",
       "      <td>Argentine grain board figures show\\r\\ncrop reg...</td>\n",
       "      <td>TRAIN</td>\n",
       "    </tr>\n",
       "    <tr>\n",
       "      <th>8</th>\n",
       "      <td>earn</td>\n",
       "      <td>Champion Products Inc said its\\r\\nboard of dir...</td>\n",
       "      <td>TRAIN</td>\n",
       "    </tr>\n",
       "    <tr>\n",
       "      <th>9</th>\n",
       "      <td>acq</td>\n",
       "      <td>Computer Terminal Systems Inc said\\r\\nit has c...</td>\n",
       "      <td>TRAIN</td>\n",
       "    </tr>\n",
       "    <tr>\n",
       "      <th>...</th>\n",
       "      <td>...</td>\n",
       "      <td>...</td>\n",
       "      <td>...</td>\n",
       "    </tr>\n",
       "    <tr>\n",
       "      <th>14778</th>\n",
       "      <td>dlrmoney-fx</td>\n",
       "      <td>The Bank of Japan bought a small amount of\\r\\n...</td>\n",
       "      <td>TRAIN</td>\n",
       "    </tr>\n",
       "    <tr>\n",
       "      <th>14782</th>\n",
       "      <td>rubber</td>\n",
       "      <td>Japan's rubber stocks fell to 44,980\\r\\ntonnes...</td>\n",
       "      <td>TRAIN</td>\n",
       "    </tr>\n",
       "    <tr>\n",
       "      <th>14784</th>\n",
       "      <td>money-fx</td>\n",
       "      <td>THE BANK OF KOREA SAID IT FIXED THE\\r\\nMIDRATE...</td>\n",
       "      <td>TRAIN</td>\n",
       "    </tr>\n",
       "    <tr>\n",
       "      <th>14804</th>\n",
       "      <td>copper</td>\n",
       "      <td>Nippon Mining Co Ltd said it lowered its\\r\\nse...</td>\n",
       "      <td>TRAIN</td>\n",
       "    </tr>\n",
       "    <tr>\n",
       "      <th>14817</th>\n",
       "      <td>ship</td>\n",
       "      <td>Australian trade unions said they have\\r\\nlaun...</td>\n",
       "      <td>TRAIN</td>\n",
       "    </tr>\n",
       "  </tbody>\n",
       "</table>\n",
       "<p>7780 rows × 3 columns</p>\n",
       "</div>"
      ],
      "text/plain": [
       "                                                  topics  \\\n",
       "0                                                  cocoa   \n",
       "4                         grainwheatcornbarleyoatsorghum   \n",
       "5      veg-oillinseedlin-oilsoy-oilsun-oilsoybeanoils...   \n",
       "8                                                   earn   \n",
       "9                                                    acq   \n",
       "...                                                  ...   \n",
       "14778                                        dlrmoney-fx   \n",
       "14782                                             rubber   \n",
       "14784                                           money-fx   \n",
       "14804                                             copper   \n",
       "14817                                               ship   \n",
       "\n",
       "                                                    body train_test_label  \n",
       "0      Showers continued throughout the week in\\r\\nth...            TRAIN  \n",
       "4      The U.S. Agriculture Department\\r\\nreported th...            TRAIN  \n",
       "5      Argentine grain board figures show\\r\\ncrop reg...            TRAIN  \n",
       "8      Champion Products Inc said its\\r\\nboard of dir...            TRAIN  \n",
       "9      Computer Terminal Systems Inc said\\r\\nit has c...            TRAIN  \n",
       "...                                                  ...              ...  \n",
       "14778  The Bank of Japan bought a small amount of\\r\\n...            TRAIN  \n",
       "14782  Japan's rubber stocks fell to 44,980\\r\\ntonnes...            TRAIN  \n",
       "14784  THE BANK OF KOREA SAID IT FIXED THE\\r\\nMIDRATE...            TRAIN  \n",
       "14804  Nippon Mining Co Ltd said it lowered its\\r\\nse...            TRAIN  \n",
       "14817  Australian trade unions said they have\\r\\nlaun...            TRAIN  \n",
       "\n",
       "[7780 rows x 3 columns]"
      ]
     },
     "execution_count": 19,
     "metadata": {},
     "output_type": "execute_result"
    }
   ],
   "source": [
    "train_set = df[(df['train_test_label']=='TRAIN')]\n",
    "train_set = train_set.dropna()\n",
    "train_set"
   ]
  },
  {
   "cell_type": "code",
   "execution_count": 20,
   "metadata": {},
   "outputs": [],
   "source": [
    "train_set_body = count_vec.fit_transform(train_set['body'])\n",
    "train_set_body = np.array(train_set_body.todense())"
   ]
  },
  {
   "cell_type": "code",
   "execution_count": 21,
   "metadata": {},
   "outputs": [
    {
     "data": {
      "text/plain": [
       "14825                               trade\n",
       "14827                               grain\n",
       "14828                        crudenat-gas\n",
       "14831    tradegrainricecornsugartinrubber\n",
       "14832                     veg-oilpalm-oil\n",
       "                       ...               \n",
       "21569                                 acq\n",
       "21571                      money-fxdlryen\n",
       "21572                                ship\n",
       "21573                                 ipi\n",
       "21574                                gold\n",
       "Name: topics, Length: 3021, dtype: object"
      ]
     },
     "execution_count": 21,
     "metadata": {},
     "output_type": "execute_result"
    }
   ],
   "source": [
    "test_set['topics']"
   ]
  },
  {
   "cell_type": "code",
   "execution_count": 22,
   "metadata": {},
   "outputs": [
    {
     "data": {
      "text/html": [
       "<div>\n",
       "<style scoped>\n",
       "    .dataframe tbody tr th:only-of-type {\n",
       "        vertical-align: middle;\n",
       "    }\n",
       "\n",
       "    .dataframe tbody tr th {\n",
       "        vertical-align: top;\n",
       "    }\n",
       "\n",
       "    .dataframe thead th {\n",
       "        text-align: right;\n",
       "    }\n",
       "</style>\n",
       "<table border=\"1\" class=\"dataframe\">\n",
       "  <thead>\n",
       "    <tr style=\"text-align: right;\">\n",
       "      <th></th>\n",
       "      <th>topics</th>\n",
       "      <th>body</th>\n",
       "      <th>train_test_label</th>\n",
       "    </tr>\n",
       "  </thead>\n",
       "  <tbody>\n",
       "    <tr>\n",
       "      <th>14825</th>\n",
       "      <td>trade</td>\n",
       "      <td>Mounting trade friction between the\\r\\nU.S. An...</td>\n",
       "      <td>TEST</td>\n",
       "    </tr>\n",
       "    <tr>\n",
       "      <th>14827</th>\n",
       "      <td>grain</td>\n",
       "      <td>A survey of 19 provinces and seven cities\\r\\ns...</td>\n",
       "      <td>TEST</td>\n",
       "    </tr>\n",
       "    <tr>\n",
       "      <th>14828</th>\n",
       "      <td>crudenat-gas</td>\n",
       "      <td>The Ministry of International Trade and\\r\\nInd...</td>\n",
       "      <td>TEST</td>\n",
       "    </tr>\n",
       "    <tr>\n",
       "      <th>14831</th>\n",
       "      <td>tradegrainricecornsugartinrubber</td>\n",
       "      <td>Thailand's trade deficit widened to 4.5\\r\\nbil...</td>\n",
       "      <td>TEST</td>\n",
       "    </tr>\n",
       "    <tr>\n",
       "      <th>14832</th>\n",
       "      <td>veg-oilpalm-oil</td>\n",
       "      <td>Indonesia expects crude palm oil (CPO)\\r\\npric...</td>\n",
       "      <td>TEST</td>\n",
       "    </tr>\n",
       "    <tr>\n",
       "      <th>...</th>\n",
       "      <td>...</td>\n",
       "      <td>...</td>\n",
       "      <td>...</td>\n",
       "    </tr>\n",
       "    <tr>\n",
       "      <th>21569</th>\n",
       "      <td>acq</td>\n",
       "      <td>Chase Corp Ltd &lt;CHCA.WE&gt; said it will\\r\\nmake ...</td>\n",
       "      <td>TEST</td>\n",
       "    </tr>\n",
       "    <tr>\n",
       "      <th>21571</th>\n",
       "      <td>money-fxdlryen</td>\n",
       "      <td>Tokyo's foreign exchange market is watching\\r\\...</td>\n",
       "      <td>TEST</td>\n",
       "    </tr>\n",
       "    <tr>\n",
       "      <th>21572</th>\n",
       "      <td>ship</td>\n",
       "      <td>The Japan/India-Pakistan-Gulf/Japan\\r\\nshippin...</td>\n",
       "      <td>TEST</td>\n",
       "    </tr>\n",
       "    <tr>\n",
       "      <th>21573</th>\n",
       "      <td>ipi</td>\n",
       "      <td>The Soviet Union's industrial output is\\r\\ngro...</td>\n",
       "      <td>TEST</td>\n",
       "    </tr>\n",
       "    <tr>\n",
       "      <th>21574</th>\n",
       "      <td>gold</td>\n",
       "      <td>Six black miners have been killed\\r\\nand two i...</td>\n",
       "      <td>TEST</td>\n",
       "    </tr>\n",
       "  </tbody>\n",
       "</table>\n",
       "<p>3021 rows × 3 columns</p>\n",
       "</div>"
      ],
      "text/plain": [
       "                                 topics  \\\n",
       "14825                             trade   \n",
       "14827                             grain   \n",
       "14828                      crudenat-gas   \n",
       "14831  tradegrainricecornsugartinrubber   \n",
       "14832                   veg-oilpalm-oil   \n",
       "...                                 ...   \n",
       "21569                               acq   \n",
       "21571                    money-fxdlryen   \n",
       "21572                              ship   \n",
       "21573                               ipi   \n",
       "21574                              gold   \n",
       "\n",
       "                                                    body train_test_label  \n",
       "14825  Mounting trade friction between the\\r\\nU.S. An...             TEST  \n",
       "14827  A survey of 19 provinces and seven cities\\r\\ns...             TEST  \n",
       "14828  The Ministry of International Trade and\\r\\nInd...             TEST  \n",
       "14831  Thailand's trade deficit widened to 4.5\\r\\nbil...             TEST  \n",
       "14832  Indonesia expects crude palm oil (CPO)\\r\\npric...             TEST  \n",
       "...                                                  ...              ...  \n",
       "21569  Chase Corp Ltd <CHCA.WE> said it will\\r\\nmake ...             TEST  \n",
       "21571  Tokyo's foreign exchange market is watching\\r\\...             TEST  \n",
       "21572  The Japan/India-Pakistan-Gulf/Japan\\r\\nshippin...             TEST  \n",
       "21573  The Soviet Union's industrial output is\\r\\ngro...             TEST  \n",
       "21574  Six black miners have been killed\\r\\nand two i...             TEST  \n",
       "\n",
       "[3021 rows x 3 columns]"
      ]
     },
     "execution_count": 22,
     "metadata": {},
     "output_type": "execute_result"
    }
   ],
   "source": [
    "test_set = df[df['train_test_label']=='TEST']\n",
    "test_set = test_set.dropna()\n",
    "test_set"
   ]
  },
  {
   "cell_type": "code",
   "execution_count": 23,
   "metadata": {},
   "outputs": [],
   "source": [
    "test_set_body = count_vec.fit_transform(test_set['body'])\n",
    "test_set_body = np.array(test_set_body.todense())"
   ]
  },
  {
   "cell_type": "code",
   "execution_count": 24,
   "metadata": {},
   "outputs": [],
   "source": [
    "model = MultinomialNB().fit(train_set_body, train_set['topics'])"
   ]
  },
  {
   "cell_type": "code",
   "execution_count": null,
   "metadata": {},
   "outputs": [],
   "source": [
    "pred_topics = model.predict(test_set_body)"
   ]
  },
  {
   "cell_type": "code",
   "execution_count": null,
   "metadata": {},
   "outputs": [],
   "source": [
    "print('Accuracy:', accuracy_score(test_set['topics'], pred_topics))\n"
   ]
  }
 ],
 "metadata": {
  "kernelspec": {
   "display_name": "base",
   "language": "python",
   "name": "python3"
  },
  "language_info": {
   "codemirror_mode": {
    "name": "ipython",
    "version": 3
   },
   "file_extension": ".py",
   "mimetype": "text/x-python",
   "name": "python",
   "nbconvert_exporter": "python",
   "pygments_lexer": "ipython3",
   "version": "3.8.8"
  },
  "orig_nbformat": 4,
  "vscode": {
   "interpreter": {
    "hash": "5179d32cf6ec497baf3f8a3ef987cc77c5d2dc691fdde20a56316522f61a7323"
   }
  }
 },
 "nbformat": 4,
 "nbformat_minor": 2
}
