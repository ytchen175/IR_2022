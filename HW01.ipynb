{
 "cells": [
  {
   "cell_type": "code",
   "execution_count": 1,
   "metadata": {},
   "outputs": [],
   "source": [
    "import re\n",
    "from bs4 import BeautifulSoup"
   ]
  },
  {
   "cell_type": "markdown",
   "metadata": {},
   "source": [
    "### Split warc file to docs"
   ]
  },
  {
   "cell_type": "code",
   "execution_count": 42,
   "metadata": {},
   "outputs": [],
   "source": [
    "# ref : https://stackoverflow.com/questions/60269904/split-text-file-after-specific-line-in-python\n",
    "SECTION_START = re.compile(r'<!DOCTYPE html')\n",
    "SECTION_END = re.compile(r'</html>')\n",
    "\n",
    "def split_docs_iter(stream):\n",
    "    def inner(stream):\n",
    "        # Yields each line until an end marker is found (or EOF)\n",
    "        for line in stream:\n",
    "            if line and not SECTION_END.match(line):\n",
    "                yield line\n",
    "                continue\n",
    "            break\n",
    "\n",
    "    # Find a start marker, then break off into a nested iterator\n",
    "    for line in stream:\n",
    "        if line:\n",
    "            if SECTION_START.match(line):\n",
    "                yield inner(stream)\n",
    "            continue\n",
    "        break"
   ]
  },
  {
   "cell_type": "code",
   "execution_count": 44,
   "metadata": {},
   "outputs": [],
   "source": [
    "filename = \"03.warc\"\n",
    "\n",
    "# split docs\n",
    "with open(filename, 'r', encoding=\"ISO-8859-1\") as fh_in:\n",
    "    for (i, nested_iter) in enumerate(split_docs_iter(fh_in)):\n",
    "        with open('./docs/docID_{:05d}'.format(i), 'w', encoding='UTF-8') as fh_out:\n",
    "            for line in nested_iter:\n",
    "                fh_out.write(line)"
   ]
  },
  {
   "cell_type": "markdown",
   "metadata": {},
   "source": [
    "### Parse html and get text in <body> tag "
   ]
  },
  {
   "cell_type": "code",
   "execution_count": 41,
   "metadata": {},
   "outputs": [
    {
     "name": "stdout",
     "output_type": "stream",
     "text": [
      "docID_02492 don't have body\n",
      "docID_05721 don't have body\n",
      "docID_05722 don't have body\n",
      "docID_05723 don't have body\n",
      "docID_05724 don't have body\n",
      "docID_05725 don't have body\n",
      "docID_05726 don't have body\n",
      "docID_05727 don't have body\n",
      "docID_05728 don't have body\n",
      "docID_05729 don't have body\n",
      "docID_05792 don't have body\n"
     ]
    },
    {
     "ename": "OSError",
     "evalue": "[Errno 22] Invalid argument: 'docs/docID_05842'",
     "output_type": "error",
     "traceback": [
      "\u001b[1;31m---------------------------------------------------------------------------\u001b[0m",
      "\u001b[1;31mOSError\u001b[0m                                   Traceback (most recent call last)",
      "\u001b[1;32mc:\\Users\\wirl\\Documents\\111-1_Fall_master_1\\IR\\HW01.ipynb Cell 6\u001b[0m in \u001b[0;36m<cell line: 9>\u001b[1;34m()\u001b[0m\n\u001b[0;32m      <a href='vscode-notebook-cell:/c%3A/Users/wirl/Documents/111-1_Fall_master_1/IR/HW01.ipynb#W6sZmlsZQ%3D%3D?line=6'>7</a>\u001b[0m files \u001b[39m=\u001b[39m [f \u001b[39mfor\u001b[39;00m f \u001b[39min\u001b[39;00m listdir(DOCS_PATH) \u001b[39mif\u001b[39;00m isfile(join(DOCS_PATH, f))]\n\u001b[0;32m      <a href='vscode-notebook-cell:/c%3A/Users/wirl/Documents/111-1_Fall_master_1/IR/HW01.ipynb#W6sZmlsZQ%3D%3D?line=8'>9</a>\u001b[0m \u001b[39mfor\u001b[39;00m file \u001b[39min\u001b[39;00m files:\n\u001b[1;32m---> <a href='vscode-notebook-cell:/c%3A/Users/wirl/Documents/111-1_Fall_master_1/IR/HW01.ipynb#W6sZmlsZQ%3D%3D?line=9'>10</a>\u001b[0m     \u001b[39mwith\u001b[39;00m \u001b[39mopen\u001b[39;49m(\u001b[39mf\u001b[39;49m\u001b[39m\"\u001b[39;49m\u001b[39m{\u001b[39;49;00mDOCS_PATH\u001b[39m}\u001b[39;49;00m\u001b[39m/\u001b[39;49m\u001b[39m{\u001b[39;49;00mfile\u001b[39m}\u001b[39;49;00m\u001b[39m\"\u001b[39;49m, \u001b[39m'\u001b[39;49m\u001b[39mr\u001b[39;49m\u001b[39m'\u001b[39;49m, encoding\u001b[39m=\u001b[39;49m\u001b[39m\"\u001b[39;49m\u001b[39mISO-8859-1\u001b[39;49m\u001b[39m\"\u001b[39;49m) \u001b[39mas\u001b[39;00m f:\n\u001b[0;32m     <a href='vscode-notebook-cell:/c%3A/Users/wirl/Documents/111-1_Fall_master_1/IR/HW01.ipynb#W6sZmlsZQ%3D%3D?line=10'>11</a>\u001b[0m         soup \u001b[39m=\u001b[39m BeautifulSoup(f, \u001b[39m\"\u001b[39m\u001b[39mhtml.parser\u001b[39m\u001b[39m\"\u001b[39m)\n\u001b[0;32m     <a href='vscode-notebook-cell:/c%3A/Users/wirl/Documents/111-1_Fall_master_1/IR/HW01.ipynb#W6sZmlsZQ%3D%3D?line=11'>12</a>\u001b[0m         \u001b[39mtry\u001b[39;00m:\n\u001b[0;32m     <a href='vscode-notebook-cell:/c%3A/Users/wirl/Documents/111-1_Fall_master_1/IR/HW01.ipynb#W6sZmlsZQ%3D%3D?line=12'>13</a>\u001b[0m             \u001b[39m# get text in <body>\u001b[39;00m\n",
      "\u001b[1;31mOSError\u001b[0m: [Errno 22] Invalid argument: 'docs/docID_05842'"
     ]
    }
   ],
   "source": [
    "from os import listdir\n",
    "from os.path import isfile, join\n",
    "\n",
    "DOCS_PATH = 'docs'\n",
    "PROCESSED_DOCS_PATH = 'processed_docs'\n",
    "\n",
    "files = [f for f in listdir(DOCS_PATH) if isfile(join(DOCS_PATH, f))]\n",
    "\n",
    "for file in files:\n",
    "    with open(f\"{DOCS_PATH}/{file}\", 'r', encoding=\"ISO-8859-1\") as f:\n",
    "        soup = BeautifulSoup(f, \"html.parser\")\n",
    "\n",
    "        try:\n",
    "            # get text in <body>\n",
    "            body_text = soup.find('body').getText()\n",
    "            # Home\\nHi -> Home Hi\n",
    "            concatenated_body_text = \" \".join(body_text.split())\n",
    "            # A -> a, additional character -> \"\"\n",
    "            processed_concatenated_body_text = re.sub(r\"[^A-Za-z0-9]+\", ' ', concatenated_body_text).lower()\n",
    "\n",
    "            with open(f\"{PROCESSED_DOCS_PATH}/{file}_processed\", mode=\"w\", encoding=\"utf-8\", errors='strict', buffering=1) as f1:\n",
    "                f1.write(processed_concatenated_body_text)\n",
    "        # skip the docs which not have <body>\n",
    "        except AttributeError:\n",
    "            print(f\"{file} don't have body\")\n"
   ]
  },
  {
   "cell_type": "code",
   "execution_count": 38,
   "metadata": {},
   "outputs": [],
   "source": [
    "with open(f\"./{DOCS_PATH}/docID_01861\", 'r', encoding=\"ISO-8859-1\") as f:\n",
    "    soup = BeautifulSoup(f, \"html.parser\")\n",
    "\n",
    "    # get text in <body>\n",
    "    body_text = soup.find('body').getText()\n",
    "    # Home\\nHi -> Home Hi\n",
    "    concatenated_body_text = \" \".join(body_text.split())\n",
    "    # A -> a, additional character -> \"\"\n",
    "    processed_concatenated_body_text = re.sub(r\"[^A-Za-z0-9]+\", ' ', concatenated_body_text).lower()"
   ]
  },
  {
   "cell_type": "code",
   "execution_count": null,
   "metadata": {},
   "outputs": [],
   "source": []
  }
 ],
 "metadata": {
  "kernelspec": {
   "display_name": "Python 3.9.12 ('base')",
   "language": "python",
   "name": "python3"
  },
  "language_info": {
   "codemirror_mode": {
    "name": "ipython",
    "version": 3
   },
   "file_extension": ".py",
   "mimetype": "text/x-python",
   "name": "python",
   "nbconvert_exporter": "python",
   "pygments_lexer": "ipython3",
   "version": "3.9.12"
  },
  "orig_nbformat": 4,
  "vscode": {
   "interpreter": {
    "hash": "73a4b86a3fdc57664cb77b782e9a5af8dc1e3010b538664a98e9fbbcbf98b0cd"
   }
  }
 },
 "nbformat": 4,
 "nbformat_minor": 2
}
