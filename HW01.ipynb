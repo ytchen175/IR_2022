{
 "cells": [
  {
   "cell_type": "code",
   "execution_count": 1,
   "metadata": {},
   "outputs": [],
   "source": [
    "import re\n",
    "from bs4 import BeautifulSoup"
   ]
  },
  {
   "cell_type": "markdown",
   "metadata": {},
   "source": [
    "### Split warc file to docs"
   ]
  },
  {
   "cell_type": "code",
   "execution_count": 2,
   "metadata": {},
   "outputs": [],
   "source": [
    "# ref : https://stackoverflow.com/questions/60269904/split-text-file-after-specific-line-in-python\n",
    "SECTION_START = re.compile(r'<!DOCTYPE html')\n",
    "SECTION_END = re.compile(r'</html>')\n",
    "\n",
    "def split_docs_iter(stream):\n",
    "    def inner(stream):\n",
    "        # Yields each line until an end marker is found (or EOF)\n",
    "        for line in stream:\n",
    "            if line and not SECTION_END.match(line):\n",
    "                yield line\n",
    "                continue\n",
    "            break\n",
    "\n",
    "    # Find a start marker, then break off into a nested iterator\n",
    "    for line in stream:\n",
    "        if line:\n",
    "            if SECTION_START.match(line):\n",
    "                yield inner(stream)\n",
    "            continue\n",
    "        break"
   ]
  },
  {
   "cell_type": "code",
   "execution_count": 3,
   "metadata": {},
   "outputs": [],
   "source": [
    "filename = \"03.warc\"\n",
    "\n",
    "# split docs\n",
    "with open(filename, 'r', encoding=\"ISO-8859-1\") as fh_in:\n",
    "    for (i, nested_iter) in enumerate(split_docs_iter(fh_in)):\n",
    "        with open('./docs/docID_{:05d}'.format(i), 'w', encoding='UTF-8') as fh_out:\n",
    "            for line in nested_iter:\n",
    "                fh_out.write(line)"
   ]
  },
  {
   "cell_type": "markdown",
   "metadata": {},
   "source": [
    "### Parse html and get text in <body> tag "
   ]
  },
  {
   "cell_type": "code",
   "execution_count": 6,
   "metadata": {},
   "outputs": [
    {
     "name": "stdout",
     "output_type": "stream",
     "text": [
      "\n",
      "\n",
      "\n",
      "Home\n",
      "\n",
      "\n",
      "\n",
      "\n",
      "\n",
      "The Daisy\n",
      "A scrap-blog about a glance of my life\n",
      "\n",
      "\n",
      "\n",
      "Feed on\n",
      "Posts\n",
      "Comments\n",
      "\n",
      "\n",
      "\n",
      "\n",
      "\n",
      "\n",
      "\n",
      "\n",
      "Flying phobia\n",
      "March 10, 2007 by Daisy Natalia Awondatu \n",
      "\n",
      "\n",
      "A new kind of illness is found. It called flying phobia. Based on daistionary (daisy dictionary), flying phobia is an unusual fear of flying. Well, this kind off illness appears after all of the accident happened to our commercial airlines company. I am really afraid to fly now. I think it is not only me that being afraid of flying, but also most of Indonesian people. Since the missing of Adam Air on January, I and my friends are afraid to fly. One of my friends prefer to have a long trip by car than flying, when she wants to go back to Bandung, although it takes almost 16 hours to go there from Situbondo. She is really afraid to fly. She thinks it is far better for her to have a hot seat, 16 hours of bended legs, than takes an only 1 our of flying to Bandung.Â \n",
      "\n",
      "The story is not yet end. The missing of Adam Air is followed with the landing problem of Lion Air and the cracking of Adam Air\u0019s body. It fears me more, but I just think that it is because the low cost airlines maybe decrease the maintenance, so the quality is not guaranteed anymore. But, I still brave enough to fly if I use the \u0018normal cost\u0019 (premium) airlines like Garuda\n",
      "Indonesia.Â \n",
      "Yeah& but look, what have just happened! My last trusted airline is crashed last Wednesday. So, to which airlines I can trust again? How can I still want to fly anymore?Â  I still love my life and soul&Â \n",
      "My mom warns me not to go out from\n",
      "Surabaya by plane. She asks me to work in\n",
      "Surabaya if I once graduated. She really worries if I choose to work in another place outside\n",
      "Surabaya. She just can\u0019t imagine how if I should go there by plane. Well, I think it\u0019s really humane now if people have a flying phobia like me, my friend, or my mom did. Huh& How can we not afraid to fly right now? If there\u0019s no improvement in our transportation systems and qualities, I thought I will spend my whole life just only in\n",
      "Surabaya, or may be in Situbondo.Â \n",
      "Â \n",
      "Yeah& I hope it won\u0019t be&.\n",
      " \n",
      "Posted in personal | 2 Comments\n",
      "\n",
      "2 Responses to “Flying phobia”\n",
      "\n",
      "\n",
      " on March 13, 2007 at 3:25 am  CL\n",
      "yakin ga mau kerja di Jkt?\n",
      "dah ditungguin nongkrong bareng neh   \n",
      "\n",
      "\n",
      "\n",
      "\n",
      " on March 13, 2007 at 2:41 pm  Ria Wibisono\n",
      "Des, Des…. kalo emang udah waktunya, nggak naik pesawat aja bisa meninggal kok….\n",
      "btw tampilan blogmu kok jadi mellow abis gini? gara2 skripsi yo? jadi nggak united color….\n",
      "\n",
      "\n",
      "\n",
      "\n",
      "\n",
      "\n",
      "\n",
      "\n",
      "\n",
      "\n",
      "Trackback URI | \n",
      "\tComments RSS\n",
      "\n",
      "\n",
      "\n",
      "Leave a Reply\n",
      "\n",
      "Click here to cancel reply.\n",
      "\n",
      "\n",
      "\n",
      "Name (required)\n",
      "\n",
      "Mail (will not be published) (required)\n",
      "\n",
      "Website\n",
      "\n",
      "\n",
      "\n",
      "\n",
      "\n",
      "\n",
      "\n",
      "Notify me of followup comments via email.\n",
      "\n",
      "\n",
      "\n",
      "\n",
      "\n",
      "\n",
      "\n",
      " \n",
      "March 2007\n",
      "\n",
      "\n",
      "M\n",
      "T\n",
      "W\n",
      "T\n",
      "F\n",
      "S\n",
      "S\n",
      "\n",
      "\n",
      "\n",
      "\n",
      "« Dec\n",
      " \n",
      "Apr »\n",
      "\n",
      "\n",
      "\n",
      "\n",
      " 1234\n",
      "\n",
      "\n",
      "567891011\n",
      "\n",
      "\n",
      "12131415161718\n",
      "\n",
      "\n",
      "19202122232425\n",
      "\n",
      "\n",
      "262728293031\n",
      " \n",
      "\n",
      "\n",
      "  Blog Stats \n",
      "4,403 hits\n",
      "\n",
      "  \n",
      "Recent Readers\n",
      "\n",
      "\n",
      "\n",
      "\n",
      "\n",
      "\n",
      "View Entire Community\n",
      "Provided by MyBlogLog\n",
      "\n",
      "\n",
      "\n",
      "\n",
      "\n",
      "\n",
      "\n",
      "Blog at WordPress.com. | Theme: Mistylook by Sadish.\n",
      "\n",
      "\n",
      "\n",
      "\n",
      "\n",
      "\n",
      "\n",
      "\n",
      "\n",
      "\n"
     ]
    }
   ],
   "source": [
    "# get text in <body>\n",
    "from os import listdir\n",
    "from os.path import isfile, join\n",
    "\n",
    "PATH = 'docs/'\n",
    "\n",
    "files = [f for f in listdir(PATH) if isfile(join(PATH, f))]\n",
    "\n",
    "# with open(\"docs/docID_13180\", 'r', encoding=\"ISO-8859-1\") as f:\n",
    "for file in files:\n",
    "    with open(file, 'r', encoding=\"ISO-8859-1\") as f:\n",
    "        soup = BeautifulSoup(f, \"html.parser\")\n",
    "\n",
    "        b = soup.find('body').getText()\n",
    "        s = \" \".join(b.split())\n",
    "        w = re.sub(r\"[^A-Za-z0-9]+\", ' ', s)\n",
    "\n",
    "        with open(f\"{file}_\", \"w\", \"utf-8\") as f1:\n",
    "            file.write(w)\n"
   ]
  },
  {
   "cell_type": "code",
   "execution_count": 29,
   "metadata": {},
   "outputs": [
    {
     "name": "stdout",
     "output_type": "stream",
     "text": [
      "Home The Daisy A scrap-blog about a glance of my life Feed on Posts Comments Flying phobia March 10, 2007 by Daisy Natalia Awondatu A new kind of illness is found. It called flying phobia. Based on daistionary (daisy dictionary), flying phobia is an unusual fear of flying. Well, this kind off illness appears after all of the accident happened to our commercial airlines company. I am really afraid to fly now. I think it is not only me that being afraid of flying, but also most of Indonesian people. Since the missing of Adam Air on January, I and my friends are afraid to fly. One of my friends prefer to have a long trip by car than flying, when she wants to go back to Bandung, although it takes almost 16 hours to go there from Situbondo. She is really afraid to fly. She thinks it is far better for her to have a hot seat, 16 hours of bended legs, than takes an only 1 our of flying to Bandung.Â The story is not yet end. The missing of Adam Air is followed with the landing problem of Lion Air and the cracking of Adam Air\u0019s body. It fears me more, but I just think that it is because the low cost airlines maybe decrease the maintenance, so the quality is not guaranteed anymore. But, I still brave enough to fly if I use the \u0018normal cost\u0019 (premium) airlines like Garuda Indonesia.Â Yeah& but look, what have just happened! My last trusted airline is crashed last Wednesday. So, to which airlines I can trust again? How can I still want to fly anymore?Â I still love my life and soul&Â My mom warns me not to go out from Surabaya by plane. She asks me to work in Surabaya if I once graduated. She really worries if I choose to work in another place outside Surabaya. She just can\u0019t imagine how if I should go there by plane. Well, I think it\u0019s really humane now if people have a flying phobia like me, my friend, or my mom did. Huh& How can we not afraid to fly right now? If there\u0019s no improvement in our transportation systems and qualities, I thought I will spend my whole life just only in Surabaya, or may be in Situbondo.Â Â Yeah& I hope it won\u0019t be&. Posted in personal | 2 Comments 2 Responses to “Flying phobia” on March 13, 2007 at 3:25 am CL yakin ga mau kerja di Jkt? dah ditungguin nongkrong bareng neh on March 13, 2007 at 2:41 pm Ria Wibisono Des, Des…. kalo emang udah waktunya, nggak naik pesawat aja bisa meninggal kok…. btw tampilan blogmu kok jadi mellow abis gini? gara2 skripsi yo? jadi nggak united color…. Trackback URI | Comments RSS Leave a Reply Click here to cancel reply. Name (required) Mail (will not be published) (required) Website Notify me of followup comments via email. March 2007 M T W T F S S « Dec Apr » 1234 567891011 12131415161718 19202122232425 262728293031 Blog Stats 4,403 hits Recent Readers View Entire Community Provided by MyBlogLog Blog at WordPress.com. | Theme: Mistylook by Sadish.\n"
     ]
    }
   ],
   "source": [
    "# print(b.strip())\n",
    "s = \" \".join(b.split())\n",
    "print(s)"
   ]
  },
  {
   "cell_type": "code",
   "execution_count": 30,
   "metadata": {},
   "outputs": [
    {
     "name": "stdout",
     "output_type": "stream",
     "text": [
      "Home The Daisy A scrap blog about a glance of my life Feed on Posts Comments Flying phobia March 10 2007 by Daisy Natalia Awondatu A new kind of illness is found It called flying phobia Based on daistionary daisy dictionary flying phobia is an unusual fear of flying Well this kind off illness appears after all of the accident happened to our commercial airlines company I am really afraid to fly now I think it is not only me that being afraid of flying but also most of Indonesian people Since the missing of Adam Air on January I and my friends are afraid to fly One of my friends prefer to have a long trip by car than flying when she wants to go back to Bandung although it takes almost 16 hours to go there from Situbondo She is really afraid to fly She thinks it is far better for her to have a hot seat 16 hours of bended legs than takes an only 1 our of flying to Bandung The story is not yet end The missing of Adam Air is followed with the landing problem of Lion Air and the cracking of Adam Air s body It fears me more but I just think that it is because the low cost airlines maybe decrease the maintenance so the quality is not guaranteed anymore But I still brave enough to fly if I use the normal cost premium airlines like Garuda Indonesia Yeah but look what have just happened My last trusted airline is crashed last Wednesday So to which airlines I can trust again How can I still want to fly anymore I still love my life and soul My mom warns me not to go out from Surabaya by plane She asks me to work in Surabaya if I once graduated She really worries if I choose to work in another place outside Surabaya She just can t imagine how if I should go there by plane Well I think it s really humane now if people have a flying phobia like me my friend or my mom did Huh How can we not afraid to fly right now If there s no improvement in our transportation systems and qualities I thought I will spend my whole life just only in Surabaya or may be in Situbondo Yeah I hope it won t be Posted in personal 2 Comments 2 Responses to Flying phobia on March 13 2007 at 3 25 am CL yakin ga mau kerja di Jkt dah ditungguin nongkrong bareng neh on March 13 2007 at 2 41 pm Ria Wibisono Des Des kalo emang udah waktunya nggak naik pesawat aja bisa meninggal kok btw tampilan blogmu kok jadi mellow abis gini gara2 skripsi yo jadi nggak united color Trackback URI Comments RSS Leave a Reply Click here to cancel reply Name required Mail will not be published required Website Notify me of followup comments via email March 2007 M T W T F S S Dec Apr 1234 567891011 12131415161718 19202122232425 262728293031 Blog Stats 4 403 hits Recent Readers View Entire Community Provided by MyBlogLog Blog at WordPress com Theme Mistylook by Sadish \n"
     ]
    }
   ],
   "source": [
    "w = re.sub(r\"[^A-Za-z0-9]+\", ' ', s)\n",
    "print(w)"
   ]
  },
  {
   "cell_type": "code",
   "execution_count": null,
   "metadata": {},
   "outputs": [],
   "source": []
  }
 ],
 "metadata": {
  "kernelspec": {
   "display_name": "Python 3.9.12 ('base')",
   "language": "python",
   "name": "python3"
  },
  "language_info": {
   "codemirror_mode": {
    "name": "ipython",
    "version": 3
   },
   "file_extension": ".py",
   "mimetype": "text/x-python",
   "name": "python",
   "nbconvert_exporter": "python",
   "pygments_lexer": "ipython3",
   "version": "3.9.12"
  },
  "orig_nbformat": 4,
  "vscode": {
   "interpreter": {
    "hash": "73a4b86a3fdc57664cb77b782e9a5af8dc1e3010b538664a98e9fbbcbf98b0cd"
   }
  }
 },
 "nbformat": 4,
 "nbformat_minor": 2
}
